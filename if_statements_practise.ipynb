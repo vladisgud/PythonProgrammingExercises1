{
 "cells": [
  {
   "cell_type": "markdown",
   "metadata": {},
   "source": [
    "# basic python"
   ]
  },
  {
   "cell_type": "markdown",
   "metadata": {},
   "source": [
    "# if statements practise\n",
    " 2 exersises \n",
    " the first one dosn't work because there is a sytax problem with the yes and no part \n",
    " "
   ]
  },
  {
   "cell_type": "markdown",
   "metadata": {},
   "source": [
    "# if statement \n",
    "desision making \n",
    "# else statements\n",
    "what hapenes after the if statement \n",
    "eg if somthing is bigger do print good else print bad "
   ]
  },
  {
   "cell_type": "code",
   "execution_count": 16,
   "metadata": {},
   "outputs": [
    {
     "name": "stdout",
     "output_type": "stream",
     "text": [
      "what is your age?16\n",
      "are you acompanied by an adult?y/ny\n",
      "you can go in\n"
     ]
    }
   ],
   "source": [
    "age = int(input(\"what is your age?\"))\n",
    "adult=\"x\"\n",
    "\n",
    "if age > 17:\n",
    "   print(\"you can go in\")\n",
    "else:\n",
    "\n",
    "   adult = input(\"are you acompanied by an adult?y/n\")\n",
    "    \n",
    "if adult == \"y\":\n",
    "    print (\"you can go in\")\n",
    "elif adult ==\"n\":\n",
    "    print (\"you can go in\")"
   ]
  },
  {
   "cell_type": "markdown",
   "metadata": {},
   "source": [
    "# elif \n",
    "else + it \n",
    "so if there is more than one action you want to happen after the if statements "
   ]
  },
  {
   "cell_type": "code",
   "execution_count": 15,
   "metadata": {},
   "outputs": [
    {
     "name": "stdout",
     "output_type": "stream",
     "text": [
      "how hot is it30\n",
      "wear a teeshirt and shorts it is way too hot\n"
     ]
    }
   ],
   "source": [
    "\n",
    "temperature = int(input(\"how hot is it\"))\n",
    "\n",
    "if (temperature > -20) and (temperature < 0):            \n",
    "    print (\"you better stay at home it is too cold my dude\") \n",
    "\n",
    "elif (temperature >= 0) and (temperature < 10):\n",
    "    print (\"its cold so wear warm clothes\")\n",
    "\n",
    "elif (temperature >= 10) and (temperature < 20):\n",
    "    print (\"wear a teeshirt with jeans\")\n",
    "\n",
    "elif (temperature >= 20) and (temperature < 30):\n",
    "    print (\"its a good waether you want\")\n",
    "\n",
    "elif (temperature <= -20):\n",
    "    print (\"ist verry cold wear the warmest clothes possible\")\n",
    "\n",
    "elif (temperature >= 30):\n",
    "    print (\"wear a teeshirt and shorts it is way too hot\")"
   ]
  },
  {
   "cell_type": "markdown",
   "metadata": {
    "collapsed": true
   },
   "source": [
    "# for functions \n"
   ]
  },
  {
   "cell_type": "code",
   "execution_count": null,
   "metadata": {
    "collapsed": true
   },
   "outputs": [],
   "source": [
    "for x in range(1,101): \n",
    "  print (x)"
   ]
  }
 ],
 "metadata": {
  "kernelspec": {
   "display_name": "Python 3",
   "language": "python",
   "name": "python3"
  },
  "language_info": {
   "codemirror_mode": {
    "name": "ipython",
    "version": 3
   },
   "file_extension": ".py",
   "mimetype": "text/x-python",
   "name": "python",
   "nbconvert_exporter": "python",
   "pygments_lexer": "ipython3",
   "version": "3.5.2"
  }
 },
 "nbformat": 4,
 "nbformat_minor": 2
}
